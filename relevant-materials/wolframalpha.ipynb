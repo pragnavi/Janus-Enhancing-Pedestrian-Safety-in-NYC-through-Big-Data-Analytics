{
 "cells": [
  {
   "cell_type": "code",
   "execution_count": 19,
   "metadata": {},
   "outputs": [],
   "source": [
    "from pprint import pprint\n",
    "import requests\n",
    "import urllib.parse\n",
    "\n",
    "appid = 'PP89GQ-EE52WXVLKV'\n",
    "\n",
    "def getCurrentConditions():\n",
    "    query = urllib.parse.quote_plus(\"what is the current weather in nyc\")\n",
    "    query_url = f\"http://api.wolframalpha.com/v2/query?\" \\\n",
    "                f\"appid={appid}\" \\\n",
    "                f\"&input={query}\" \\\n",
    "                f\"&format=plaintext\" \\\n",
    "                f\"&output=json\"\n",
    "\n",
    "    r = requests.get(query_url).json()\n",
    "    conditions = r['queryresult']['pods'][1]['subpods'][0]['plaintext']\n",
    "    if conditions:\n",
    "        return conditions\n",
    "    return \"Something went wrong\"\n",
    "# data = r[\"queryresult\"][\"pods\"][0][\"subpods\"][0]\n",
    "# datasource = \", \".join(data[\"datasources\"][\"datasource\"])\n",
    "# microsource = data[\"microsources\"][\"microsource\"]\n",
    "# plaintext = data[\"plaintext\"]\n",
    "\n",
    "# print(f\"Result: '{plaintext}' from {datasource} ({microsource}).\")"
   ]
  },
  {
   "cell_type": "code",
   "execution_count": 20,
   "metadata": {},
   "outputs": [
    {
     "data": {
      "text/plain": [
       "'temperature | 51 °F\\nconditions | overcast\\nrelative humidity | 83% (dew point: 46 °F)\\nwind speed | 15 mph\\n(1 hour 23 minutes ago)'"
      ]
     },
     "execution_count": 20,
     "metadata": {},
     "output_type": "execute_result"
    }
   ],
   "source": [
    "getCurrentConditions()"
   ]
  },
  {
   "cell_type": "code",
   "execution_count": 37,
   "metadata": {},
   "outputs": [
    {
     "data": {
      "text/plain": [
       "{'title': 'Basic information',\n",
       " 'scanner': 'Data',\n",
       " 'id': 'BasicInformation:ParkData',\n",
       " 'position': 200,\n",
       " 'error': False,\n",
       " 'numsubpods': 1,\n",
       " 'subpods': [{'title': '',\n",
       "   'microsources': {'microsource': 'ParkData'},\n",
       "   'datasources': {'datasource': ['NationalParkServiceFindAPark',\n",
       "     'TheWikimediaFoundationIncWikipedia']},\n",
       "   'plaintext': 'location | New York City, New York\\narea | 9.75 acres'}],\n",
       " 'expressiontypes': {'name': 'Grid'},\n",
       " 'states': [{'name': 'More', 'input': 'BasicInformation:ParkData__More'},\n",
       "  {'name': 'Show metric', 'input': 'BasicInformation:ParkData__Show metric'}]}"
      ]
     },
     "execution_count": 37,
     "metadata": {},
     "output_type": "execute_result"
    }
   ],
   "source": [
    "\n",
    "query = urllib.parse.quote_plus(\"what is washington square park in nyc\")\n",
    "query_url = f\"http://api.wolframalpha.com/v2/query?\" \\\n",
    "                f\"appid={appid}\" \\\n",
    "                f\"&input={query}\" \\\n",
    "                f\"&format=plaintext\" \\\n",
    "                f\"&output=json\"\n",
    "\n",
    "r = requests.get(query_url).json()\n",
    "conditions = r['queryresult']['pods'][1]\n",
    "conditions"
   ]
  },
  {
   "cell_type": "code",
   "execution_count": 40,
   "metadata": {},
   "outputs": [
    {
     "data": {
      "text/plain": [
       "{'title': 'Local map',\n",
       " 'scanner': 'Data',\n",
       " 'id': 'Map:ParkData',\n",
       " 'position': 400,\n",
       " 'error': False,\n",
       " 'numsubpods': 1,\n",
       " 'subpods': [{'title': '',\n",
       "   'microsources': {'microsource': ['OpenStreetMap', 'ParkData']},\n",
       "   'datasources': {'datasource': ['NationalParkServiceFindAPark',\n",
       "     'TheWikimediaFoundationIncWikipedia']},\n",
       "   'plaintext': ''}],\n",
       " 'expressiontypes': {'name': 'Default'},\n",
       " 'states': [{'count': 13,\n",
       "   'value': '5 miles across',\n",
       "   'delimiters': '',\n",
       "   'states': [{'name': '5 miles across',\n",
       "     'input': 'Map:ParkData__5 miles across'},\n",
       "    {'name': '10 miles across', 'input': 'Map:ParkData__10 miles across'},\n",
       "    {'name': '20 miles across', 'input': 'Map:ParkData__20 miles across'},\n",
       "    {'name': '40 miles across', 'input': 'Map:ParkData__40 miles across'},\n",
       "    {'name': '80 miles across', 'input': 'Map:ParkData__80 miles across'},\n",
       "    {'name': '160 miles across', 'input': 'Map:ParkData__160 miles across'},\n",
       "    {'name': '320 miles across', 'input': 'Map:ParkData__320 miles across'},\n",
       "    {'name': '640 miles across', 'input': 'Map:ParkData__640 miles across'},\n",
       "    {'name': '1300 miles across', 'input': 'Map:ParkData__1300 miles across'},\n",
       "    {'name': '2500 miles across', 'input': 'Map:ParkData__2500 miles across'},\n",
       "    {'name': '4900 miles across', 'input': 'Map:ParkData__4900 miles across'},\n",
       "    {'name': '8300 miles across', 'input': 'Map:ParkData__8300 miles across'},\n",
       "    {'name': '16000 miles across',\n",
       "     'input': 'Map:ParkData__16000 miles across'}]},\n",
       "  {'name': 'Show metric', 'input': 'Map:ParkData__Show metric'}],\n",
       " 'infos': {'links': {'url': 'http://maps.google.com?ie=UTF8&z=12&t=k&ll=40.7308%2C-73.9975&q=40.7308%20N%2C%2073.9975%20W',\n",
       "   'text': 'Satellite image'}}}"
      ]
     },
     "execution_count": 40,
     "metadata": {},
     "output_type": "execute_result"
    }
   ],
   "source": [
    "r['queryresult']['pods'][3]"
   ]
  },
  {
   "cell_type": "code",
   "execution_count": null,
   "metadata": {},
   "outputs": [],
   "source": []
  }
 ],
 "metadata": {
  "kernelspec": {
   "display_name": "Python 3.9.6 64-bit",
   "language": "python",
   "name": "python3"
  },
  "language_info": {
   "codemirror_mode": {
    "name": "ipython",
    "version": 3
   },
   "file_extension": ".py",
   "mimetype": "text/x-python",
   "name": "python",
   "nbconvert_exporter": "python",
   "pygments_lexer": "ipython3",
   "version": "3.9.6"
  },
  "orig_nbformat": 4,
  "vscode": {
   "interpreter": {
    "hash": "31f2aee4e71d21fbe5cf8b01ff0e069b9275f58929596ceb00d14d90e3e16cd6"
   }
  }
 },
 "nbformat": 4,
 "nbformat_minor": 2
}
